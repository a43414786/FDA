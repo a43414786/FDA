{
 "cells": [
  {
   "cell_type": "markdown",
   "metadata": {},
   "source": [
    "# 作業 2\n",
    "\n",
    "本作業使用 [Kaggle Titanic](https://www.kaggle.com/c/titanic/overview) 所提供的資料，根據鐵達尼號乘客資料預測生還者。\n",
    "我們只使用 `train.csv` 進行生還者預測（只有 `train.csv` 才有答案），而加分題需要額外使用 `test.csv` 並提交至 [Kaggle Titanic](https://www.kaggle.com/c/titanic/overview) 進行評分。\n",
    "\n",
    "本作業需要先學習[程式教材](https://github.com/IKMLab/course_material)中的以下部份：\n",
    "\n",
    "- [jupyter-基本功能](https://github.com/IKMLab/course_material/blob/master/jupyter-%E5%9F%BA%E6%9C%AC%E5%8A%9F%E8%83%BD.ipynb)\n",
    "- [python-入門語法](https://github.com/IKMLab/course_material/blob/master/python-%E5%85%A5%E9%96%80%E8%AA%9E%E6%B3%95.ipynb)\n",
    "- [numpy-基本功能](https://github.com/IKMLab/course_material/blob/master/numpy-%E5%9F%BA%E6%9C%AC%E5%8A%9F%E8%83%BD.ipynb)\n",
    "- [pandas-基本功能](https://github.com/IKMLab/course_material/blob/master/pandas-%E5%9F%BA%E6%9C%AC%E5%8A%9F%E8%83%BD.ipynb)\n",
    "- [matplotlib-資料視覺化](https://github.com/IKMLab/course_material/blob/master/matplotlib-%E8%B3%87%E6%96%99%E8%A6%96%E8%A6%BA%E5%8C%96.ipynb)\n",
    "- [scikit-learn-基本功能](https://github.com/IKMLab/course_material/blob/master/scikit-learn-%E5%9F%BA%E6%9C%AC%E5%8A%9F%E8%83%BD.ipynb)"
   ]
  },
  {
   "cell_type": "markdown",
   "metadata": {},
   "source": [
    "## 繳交規則\n",
    "\n",
    "1. 請將**當前資料夾**命名為 `FDA_HW2_你的學號`\n",
    "    - 例如：`FDA_HW2_F12345678`\n",
    "    - 所有**英文**都必須**大寫**\n",
    "    - 所有**文字**都必須在 **ASCII** 範圍\n",
    "2. 請將本檔案命名為 `main.ipynb`\n",
    "3. 請描述開發所需要的**環境**，包含：\n",
    "    - **作業系統**與**發行版本**\n",
    "        - 例如：Windows、Mac、Linux 等\n",
    "        - 需要填寫系統**名稱**與**版本**\n",
    "    - **程式執行環境**\n",
    "        - 例如：jupyter、kaggle kernel、colab 等\n",
    "        - 如果是 jupyter 請**填寫**版本\n",
    "        - 如果是雲端計算資源**不需填寫**版本\n",
    "        - 請**勿**使用**付費**資源，助教薪水**微薄**\n",
    "    - **python 版本**\n",
    "        - 例如：3.6.9\n",
    "        - 填寫**至少**能執行的版本即可\n",
    "    - **安裝環境**\n",
    "        - 例如使用 `pip`、`conda` 等\n",
    "        - 助教會以虛擬環境測試\n",
    "    - **安裝套件**與**版本**\n",
    "        - 請使用 `requirements.txt`\n",
    "        - 助教會以虛擬環境測試\n",
    "        - 請**不要**附上**多餘**的套件\n",
    "    - **計算資源**\n",
    "        - 使用 CPU **數量**\n",
    "        - GPU 版本\n",
    "    - **執行**所需花費**時間**\n",
    "        - 請**不要更改**擁有註解 `請勿更動此區塊程式碼` 的程式碼區塊\n",
    "4. 請**保留執行結果**讓助教可以直接觀看\n",
    "    - 請記得使用 **Save**\n",
    "    - **雲端**計算資源請**儲存**後**下載**檔案\n",
    "    - 所有程式區塊**必須依序執行**\n",
    "    - 請**不要**保留**多餘**的程式區塊\n",
    "5. 請**控制隨機亂數**讓實驗結果可以**重現**\n",
    "    - 關鍵字：**random seed**\n",
    "6. 請**不要**上傳**多餘**的檔案\n",
    "    - 不要上傳**資料**檔案，包含 `train.csv` 與 `test.csv` 等\n",
    "    - 不要上傳**隱藏**檔案，包含 `.git`、`.ipynb_checkpoints`, `.vscode`, `.DS_Store` 等\n",
    "    - 不要上傳**虛擬環境**\n",
    "7. 請附上**參考連結**\n",
    "    - 可以參考公開的 kernel\n",
    "    - 沒附上連結者視同**瓢竊**\n",
    "    - 使用的**演算法**請附上來源，並大致描述概念\n",
    "8. 請**壓縮**成 `zip` 並上傳至 [moodle](http://moodle.ncku.edu.tw/)\n",
    "    - 例如 `FDA_HW2_F12345678.zip`"
   ]
  },
  {
   "cell_type": "markdown",
   "metadata": {},
   "source": [
    "## 評分標準\n",
    "\n",
    "如果有參考其他作法卻沒有附上來源，則直接視為瓢竊，得分為0分。\n",
    "\n",
    "### 扣分規則\n",
    "> 沒滿足以下條件將斟酌扣分\n",
    "\n",
    "|規則|沒滿足規則失分|\n",
    "|-|-|\n",
    "|資料夾名稱符合繳交規則|- 5|\n",
    "|檔案名稱符合繳交規則|- 5|\n",
    "|填寫環境需求|- 0|\n",
    "|填寫計算資源|- 0|\n",
    "|提供 `requirements.txt`|- 5|\n",
    "|將資料夾壓縮成 `zip`|- 5|\n",
    "|不更改擁有註解 `請勿更動此區塊程式碼` 的程式碼區塊|- 5|\n",
    "|計算並顯示執行時間|- 5|\n",
    "|控制隨機亂數讓實驗結果可以重現|- 5|\n",
    "\n",
    "### 得分規則\n",
    "\n",
    "|規則|滿足規則得分|\n",
    "|-|-|\n",
    "|使用 `markdown` 區塊描述資料分析內容|+2|\n",
    "|選擇使用 `Sex` 與 `Age` 以外的特徵作為輸入並以 `markdown` 區塊描述方法與理由|+2|\n",
    "|處理缺失值並以 `markdown` 區塊描述方法與理由|+2|\n",
    "|轉換數值資料並以 `markdown` 區塊描述方法與理由|+2|\n",
    "|轉換類別資料並以 `markdown` 區塊描述方法與理由|+2|\n",
    "|使用其他方法進行資料前處理並以 `markdown` 區塊描述理由|+10|\n",
    "|以資料視覺化輔助資料分析並以 `markdown` 區塊輔助描述圖中資訊|+10|\n",
    "|使用決策樹以外的模型進行實驗|+10|\n",
    "|使用 `markdown` 區塊簡單解釋模型演算法|+8|\n",
    "|解釋模型超參數的選擇理由|+2|\n",
    "|使用 5-fold cross validation 輸出平均準確度|+2|\n",
    "|使用所有資料訓練模型並輸出準確度|+2|\n",
    "|使用多個不同模型進行實驗|+8|\n",
    "|使用 ensemble 進行實驗|+8|\n",
    "|試著讓其中一個實驗模型 overfitting（訓練與驗證準確度差距 > $10\\%$）|+8|\n",
    "|試著讓其中一個實驗模型 underfitting（訓練準確度約 $50\\% \\pm 10\\%$）|+2|\n",
    "|準確度超越課堂範例（$81\\%$）|+7|\n",
    "|將最佳實驗結果套用到 `test.csv` 並截圖 Kaggle 評分|+13|\n",
    "|(Bouns) 將最佳實驗結果套用到 `test.csv` 並取得 Kaggle Public Leaderboard Top $10\\%$|+10|\n",
    "|(Bouns) 將最佳實驗結果套用到 `test.csv` 並取得 Kaggle Public Leaderboard Top $5\\%$|+15|\n",
    "|(Bouns) 將最佳實驗結果套用到 `test.csv` 並取得 Kaggle Public Leaderboard Top $1\\%$|+20|"
   ]
  },
  {
   "cell_type": "markdown",
   "metadata": {},
   "source": [
    "## 環境\n",
    "\n",
    "請填寫當前執行使用的環境。\n",
    "\n",
    "|環境|名稱|版本|\n",
    "|-|-|-|\n",
    "|作業系統|Windows|10|\n",
    "|程式執行環境|Colab||\n",
    "|python 版本|python|3.7.13|\n",
    "|安裝環境|pip|21.1.3|"
   ]
  },
  {
   "cell_type": "markdown",
   "metadata": {},
   "source": [
    "## 安裝\n",
    "\n",
    "請填寫安裝套件需要的指令\n",
    "\n",
    "```sh\n",
    "pip install -r requirements.txt\n",
    "```"
   ]
  },
  {
   "cell_type": "markdown",
   "metadata": {},
   "source": [
    "## 計算資源\n",
    "\n",
    "請填寫執行程式所需要的計算資源，請確保所有資源限制在單一個人桌上型電腦且能夠以總市價低於 5 萬的手段取得。\n",
    "\n",
    "|計算資源|答案|\n",
    "|-|-|\n",
    "|使用 CPU 核心數|2|\n",
    "|記憶體需求|13GB|\n",
    "|有無使用 GPU|無|\n",
    "|GPU 版本|無|\n",
    "|GPU 記憶體需求|無|"
   ]
  },
  {
   "cell_type": "markdown",
   "metadata": {},
   "source": [
    "## 參考連結\n",
    "\n",
    "- 有無參考他人之實驗結果：有\n",
    "- 參考連結：\n",
    "  + https://yulongtsai.medium.com/https-medium-com-yulongtsai-titanic-top3-8e64741cc11f\n",
    "  + https://osswangxining.github.io/sklearn-classifier/\n",
    "  + https://www.cnblogs.com/volcao/p/9085363.html"
   ]
  },
  {
   "cell_type": "code",
   "execution_count": 936,
   "metadata": {},
   "outputs": [],
   "source": [
    "# 請勿更動此區塊程式碼\n",
    "\n",
    "import time\n",
    "import numpy as np\n",
    "import pandas as pd\n",
    "\n",
    "EXECUTION_START_TIME = time.time() # 計算執行時間\n",
    "\n",
    "df = pd.read_csv('train.csv')      # 讀取資料，請勿更改路徑"
   ]
  },
  {
   "cell_type": "markdown",
   "metadata": {},
   "source": [
    "## 資料分析與前處理\n",
    "\n",
    "請在此區塊後使用**一個或多個區塊**進行資料分析與前處理，項目可以包含：\n",
    "\n",
    "- 資料視覺化\n",
    "- 相關係數\n",
    "- 決定輸入特徵\n",
    "- 處理缺失值\n",
    "- 轉換數值\n",
    "- 轉換類別\n",
    "- 其他\n",
    "\n",
    "請以 `markdown` 簡單描述**流程**、**方法**與**原因**：\n",
    "\n",
    "1. 觀察...，發現...\n",
    "2. 填補...，策略...\n",
    "3. 轉換...，原因..."
   ]
  },
  {
   "cell_type": "code",
   "execution_count": 937,
   "metadata": {},
   "outputs": [
    {
     "name": "stdout",
     "output_type": "stream",
     "text": [
      "Class 1 生還率 : 62.96%\n",
      "Class 2 生還率 : 47.28%\n",
      "Class 3 生還率 : 24.24%\n",
      "\n"
     ]
    },
    {
     "name": "stderr",
     "output_type": "stream",
     "text": [
      "D:\\Anaconda3\\envs\\FDA\\lib\\site-packages\\seaborn\\_decorators.py:43: FutureWarning: Pass the following variable as a keyword arg: x. From version 0.12, the only valid positional argument will be `data`, and passing other arguments without an explicit keyword will result in an error or misinterpretation.\n",
      "  FutureWarning\n"
     ]
    },
    {
     "data": {
      "image/png": "[encoded data removed]",
      "text/plain": [
       "<Figure size 432x288 with 1 Axes>"
      ]
     },
     "metadata": {
      "needs_background": "light"
     },
     "output_type": "display_data"
    }
   ],
   "source": [
    "# 資料分析與前處理\n",
    "\n",
    "import seaborn as sns\n",
    "import matplotlib.pyplot as plt\n",
    "\n",
    "pclass = df.Pclass\n",
    "survived = df.Survived\n",
    "\n",
    "pclassSurvived = np.zeros((3,2),dtype=np.int32)\n",
    "for i in range(len(pclass)):\n",
    "    pclassSurvived[pclass[i]-1][survived[i]] += 1\n",
    "\n",
    "sns.countplot(survived,hue=pclass)\n",
    "\n",
    "class1SurviveRate = (pclassSurvived[0][1] / (pclassSurvived[0][1] + pclassSurvived[0][0])) * 100\n",
    "class2SurviveRate = (pclassSurvived[1][1] / (pclassSurvived[1][1] + pclassSurvived[1][0])) * 100\n",
    "class3SurviveRate = (pclassSurvived[2][1] / (pclassSurvived[2][1] + pclassSurvived[2][0])) * 100\n",
    "print('Class 1 生還率 : {:.2f}%\\nClass 2 生還率 : {:.2f}%\\nClass 3 生還率 : {:.2f}%\\n'.format(class1SurviveRate,class2SurviveRate,class3SurviveRate))"
   ]
  },
  {
   "cell_type": "markdown",
   "metadata": {},
   "source": [
    "將船艙等級對生還與否做圖<br>\n",
    "觀察 : 可以看到在生還者中Class 1人數最多，Class 3次之，Class 2最少<br>\n",
    "透過將各Class生還人數除以該Class總人數得到各Class生還率後發現生還率以Class 1最高(62.96%)，Class 2次之(47.28%)，Class 3最低(24.24%)<br>\n",
    "發現 : 生還率依船艙等級遞減<br>\n",
    "因此可以判斷當某乘客的船艙等級越高則生還率越高，而船艙等級越低則生還率越低<br>\n",
    "挑選此Feature原因 : 通常船艙等級高代表其可能擁有較高的社會地位，且船艙等級高也帶表其在遇難時可能有優先搭上救生艇的權利，因此猜測當船艙等級越高<br>\n",
    "，生還率越，而結果也確實如此"
   ]
  },
  {
   "cell_type": "code",
   "execution_count": 938,
   "metadata": {},
   "outputs": [
    {
     "name": "stdout",
     "output_type": "stream",
     "text": [
      "Master survived rate\t\t: 0.575\t\tTotal number : 40\n",
      "Miss survived rate\t\t: 0.704\t\tTotal number : 186\n",
      "Mr survived rate\t\t: 0.157\t\tTotal number : 517\n",
      "Mrs survived rate\t\t: 0.794\t\tTotal number : 126\n",
      "Others survived rate\t\t: 0.318\t\tTotal number : 22\n"
     ]
    },
    {
     "name": "stderr",
     "output_type": "stream",
     "text": [
      "D:\\Anaconda3\\envs\\FDA\\lib\\site-packages\\seaborn\\_decorators.py:43: FutureWarning: Pass the following variable as a keyword arg: x. From version 0.12, the only valid positional argument will be `data`, and passing other arguments without an explicit keyword will result in an error or misinterpretation.\n",
      "  FutureWarning\n"
     ]
    },
    {
     "data": {
      "image/png": "[encoded data removed]",
      "text/plain": [
       "<Figure size 1080x432 with 1 Axes>"
      ]
     },
     "metadata": {
      "needs_background": "light"
     },
     "output_type": "display_data"
    }
   ],
   "source": [
    "from sklearn.preprocessing import LabelEncoder\n",
    "\n",
    "df['Name'] = df['Name'].str.extract(' ([A-Za-z]+)\\.', expand=False)\n",
    "df['Name'] = df['Name'].replace(['Mlle', 'Ms','Mme'],'Miss')\n",
    "df['Name'] = df['Name'].replace(['Lady'],'Mrs')\n",
    "df['Name'] = df['Name'].replace(['Capt', 'Col', 'Countess', 'Don',\n",
    "                    'Dr', 'Dona', 'Jonkheer', \n",
    "                    'Major','Rev','Sir'],'Others') \n",
    "\n",
    "fig = plt.figure(figsize=(15,6))\n",
    "sns.countplot(df['Name'],hue=survived)\n",
    "plt.tight_layout()\n",
    "\n",
    "le_name = LabelEncoder()\n",
    "le_name.fit(df['Name'])\n",
    "df['Name'] = le_name.transform(df['Name'])\n",
    "\n",
    "catagory_survived = np.zeros((len(le_name.classes_),2),np.int32)\n",
    "\n",
    "for i in range(len(df['Name'])):\n",
    "    catagory_survived[df['Name'][i]][survived[i]] += 1\n",
    "    \n",
    "\n",
    "for i in range(len(catagory_survived)):\n",
    "    catagory = le_name.classes_[i]\n",
    "    survival = catagory_survived[i][1]\n",
    "    total = catagory_survived[i][0] + catagory_survived[i][1]\n",
    "    print('{} survived rate\\t\\t: {:.3f}\\t\\tTotal number : {}'.format(catagory,survival/total,total))\n",
    "\n"
   ]
  },
  {
   "cell_type": "markdown",
   "metadata": {},
   "source": [
    "這裡我使用了將乘客名子前綴如Mr.、Miss.等截取出來的前處理方式，名子前綴可能代表性別、年齡、身分與社會地位等，跟其生存率可能有密切關係<br>\n",
    "擷取方法 : 我將乘客名子中的如Mr.、Miss.等名稱前綴透過抓取名子的,與.截出<br>\n",
    "然後計算各類名稱前綴的生存率並顯示生存率與總人數<br>\n",
    "接著將生還與否對名稱前綴作圖<br>\n",
    "觀察 : 從圖片上可以看出Mr的人員總數最多且生還率低，可以看出成年男性的生還率是比較低的，而如Mrs,Miss等稱呼女性的前綴則生存率較高這與我們認知中的女性生存率較高吻合，圖中還可以看到Master這項也是生還率較高的此項前綴是指小孩子，可以判斷小孩子與女性一樣應該是有優先搭上救生艇的權利，因此生存率也會比較高<br>\n",
    "最後我將名子前綴做轉換將不同的前綴對應到0,1,2,3,4...<br>\n",
    "原因 : 因為在之後要放入模型訓練需要數值化這些label才能訓練"
   ]
  },
  {
   "cell_type": "code",
   "execution_count": 939,
   "metadata": {},
   "outputs": [
    {
     "name": "stdout",
     "output_type": "stream",
     "text": [
      "Class 0 survive rate : 0.702\n",
      "Class 1 survive rate : 0.424\n",
      "Class 2 survive rate : 0.360\n",
      "Class 3 survive rate : 0.380\n",
      "Class 4 survive rate : 0.125\n"
     ]
    },
    {
     "name": "stderr",
     "output_type": "stream",
     "text": [
      "D:\\Anaconda3\\envs\\FDA\\lib\\site-packages\\seaborn\\_decorators.py:43: FutureWarning: Pass the following variable as a keyword arg: x. From version 0.12, the only valid positional argument will be `data`, and passing other arguments without an explicit keyword will result in an error or misinterpretation.\n",
      "  FutureWarning\n"
     ]
    },
    {
     "data": {
      "image/png": "[encoded data removed]",
      "text/plain": [
       "<Figure size 432x288 with 1 Axes>"
      ]
     },
     "metadata": {
      "needs_background": "light"
     },
     "output_type": "display_data"
    }
   ],
   "source": [
    "from sklearn.impute import SimpleImputer       # 匯入填補缺失值的工具\n",
    "\n",
    "def process_age(df,cal_survived=False,plot=False):\n",
    "    age = df.Age\n",
    "    \n",
    "    imputer = SimpleImputer(strategy='most_frequent')     # 創造 imputer 並設定填補策略\n",
    "    age = age.to_numpy().reshape(-1, 1)\n",
    "    imputer.fit(age)                               # 根據資料學習需要填補的值\n",
    "    age = imputer.transform(age)        # 填補缺失值\n",
    "\n",
    "    ageCatalog = []\n",
    "\n",
    "    for i in age:\n",
    "        if i <= 6:\n",
    "            ageCatalog.append(0)\n",
    "        elif i > 6 and i <= 17:\n",
    "            ageCatalog.append(1)\n",
    "        elif i > 17 and i <= 40:\n",
    "            ageCatalog.append(2)\n",
    "        elif i > 40 and i <= 65:\n",
    "            ageCatalog.append(3)\n",
    "        elif i > 65:\n",
    "            ageCatalog.append(4) \n",
    "\n",
    "    if cal_survived:\n",
    "        ageSurvived = np.zeros((5,2))\n",
    "        for i in range(len(ageCatalog)):\n",
    "            ageSurvived[ageCatalog[i]][survived[i]] += 1\n",
    "        for i in range(len(ageSurvived)):\n",
    "            survive = ageSurvived[i][1]\n",
    "            total = ageSurvived[i][0] + ageSurvived[i][1]\n",
    "            print('Class {} survive rate : {:.3f}'.format(i,survive/total))\n",
    "\n",
    "    if plot:sns.countplot(survived,hue=ageCatalog)\n",
    "    return ageCatalog\n",
    "\n",
    "ageCatalog = process_age(df,True,True)\n"
   ]
  },
  {
   "cell_type": "markdown",
   "metadata": {},
   "source": [
    "使用age作為Feature，由於其中有缺值，使用SimpleImputer補缺值<br>\n",
    "我選擇的補缺策略為most frequent<br>\n",
    "原因 : 我認為缺失的年齡為其餘無缺失年齡的眾數機率較高，因此將缺失值補為眾數<br>\n",
    "接著我將age依照區間分成五類，且不是等區間切分，而是依照不同年齡層的年齡區間做分類<br>\n",
    "第一類:0~6歲:童年<br>\n",
    "第二類:7~17歲:少年<br>\n",
    "第三類:18~40歲:青年<br>\n",
    "第四類:41~65:中年<br>\n",
    "第五類:65up:晚年<br>\n",
    "原因 : 我認為年齡較小的人在遇到災難時會有優先被救助的可能性，而年紀稍長者則會比較晚才被救助，而到一定年齡以上可能又會有能獲得優先救助的情況<br>\n",
    "結論 : 由計算各類生存率以及將年齡層對生還與否作圖可看出，生還率由高至低為，第一類，第二類，第四類，第三類，第五類，大致和我所想的一樣，年齡較低者生還率較高，稍長者生存率低，唯年紀最長的第五類生存率最低與我所想不同，推測可能由於年紀大的緣故，災難發生時來不及反應及逃生，造成生還率最低"
   ]
  },
  {
   "cell_type": "code",
   "execution_count": 940,
   "metadata": {},
   "outputs": [
    {
     "name": "stderr",
     "output_type": "stream",
     "text": [
      "D:\\Anaconda3\\envs\\FDA\\lib\\site-packages\\seaborn\\_decorators.py:43: FutureWarning: Pass the following variable as a keyword arg: x. From version 0.12, the only valid positional argument will be `data`, and passing other arguments without an explicit keyword will result in an error or misinterpretation.\n",
      "  FutureWarning\n"
     ]
    },
    {
     "data": {
      "image/png": "[encoded data removed]",
      "text/plain": [
       "<Figure size 432x288 with 1 Axes>"
      ]
     },
     "metadata": {
      "needs_background": "light"
     },
     "output_type": "display_data"
    }
   ],
   "source": [
    "sns.countplot(survived,hue=df['Sex'])\n",
    "\n",
    "le_sex = LabelEncoder()                             # 創造 Label Encoder\n",
    "le_sex.fit(df['Sex'])                                     # 給予每個類別一個數值\n",
    "df['Sex'] = le_sex.transform(df['Sex'])                         # 轉換所有類別成為數值\n"
   ]
  },
  {
   "cell_type": "markdown",
   "metadata": {},
   "source": [
    "使用Sex作為Feature，此項Feature較為單純，只需將Female、Male轉換成0,1 label<br>\n",
    "原因 : 由於後續要放到模型中訓練，需要數值化label\n",
    "作圖分析:<br>\n",
    "將性別對生還與否作圖，可以看到女姓的生存率較男性高非常多，可能是因為女性較男性能較優先獲得救助"
   ]
  },
  {
   "cell_type": "code",
   "execution_count": 941,
   "metadata": {},
   "outputs": [],
   "source": [
    "seed = 1000\n",
    "\n",
    "df['Age'] = ageCatalog\n",
    "\n",
    "train_x = df[['Sex', 'Age','Pclass','Parch','SibSp','Name']]                   # 取出訓練資料需要分析的資料欄位\n",
    "train_y = df['Survived']                       # 取出訓練資料的答案\n",
    "\n"
   ]
  },
  {
   "cell_type": "markdown",
   "metadata": {},
   "source": [
    "採用Sex與Age作為Feature，"
   ]
  },
  {
   "cell_type": "markdown",
   "metadata": {},
   "source": [
    "## 模型訓練\n",
    "\n",
    "請在此區塊後使用**一個或多個區塊**進行模型訓練，**需要**包含以下內容：\n",
    "\n",
    "- **選擇模型**\n",
    "    - 設定模型**超參數**\n",
    "    - **控制隨機亂數**\n",
    "- 計算**準確度（Accuracy）**\n",
    "    - 使用 **5-fold cross validation**，輸出**平均準確度**\n",
    "    - 最後再使用**所有**資料進行訓練並輸出**準確度**\n",
    "    - 準確度必須**超越**課堂使用的範例\n",
    "    \n",
    "如果有進行多於一個以上的實驗，**可以保留所有**的實驗結果，但是執行時間將會納入**全部**實驗。"
   ]
  },
  {
   "cell_type": "code",
   "execution_count": 942,
   "metadata": {},
   "outputs": [
    {
     "name": "stdout",
     "output_type": "stream",
     "text": [
      "best_p = 1\n",
      "best_k = 8\n"
     ]
    }
   ],
   "source": [
    "#使用KNN進行實驗\n",
    "from sklearn.neighbors import KNeighborsClassifier as Knn\n",
    "\n",
    "best_p = -1\n",
    "best_score = 0.0\n",
    "best_k = -1\n",
    "for k in range(1, 11):\n",
    "    for p in range(1, 6):\n",
    "        knn = Knn(n_neighbors = k, weights = \"distance\", p = p)\n",
    "        knn.fit(train_x, train_y)\n",
    "        pre = knn.predict(train_x)\n",
    "        acc = accuracy_score(train_y,pre)\n",
    "        if acc > best_score:\n",
    "            best_score = acc\n",
    "            best_k = k\n",
    "            best_p = p\n",
    "\n",
    "print('best_p = {}\\nbest_k = {}'.format(best_p,best_k))\n",
    "\n",
    "knn = Knn(n_neighbors = best_k,weights = \"distance\", p = best_p)\n"
   ]
  },
  {
   "cell_type": "markdown",
   "metadata": {},
   "source": [
    "#### 解釋演算法:\n",
    "全稱K Nearest Neighbors，意為K個最近的鄰居。其原理為在訓練時會將個筆資料依據Feature數量投射到高維空間，<br>\n",
    "當一個新的資料輸入KNN模型時一樣會被投射到高維空間，模型會根據在高維空間中歐式距離最近的K個點是什麼類別進行投票來判斷x屬於哪個類別<br>\n",
    "例如:K = 5便會取距離最近的五個點取眾數決定該點的類別\n",
    "#### 解釋模型超參選擇理由:\n",
    "KNN主要會調整的有三種超參數:<br>\n",
    "n_neighbors : 為KNN的K值，選擇7作為K值，選擇原因:透過for迴圈嘗試不同K值，取訓練精確度最高的K值，該次結果為7\n",
    "weights : 為是否考慮權值，當weights = uniform時為不考慮權值，單純以最近的K個鄰居取眾數，當weights = distance時表示要考慮到空間中K鄰居的權重，也就是說不是單純取最近的K鄰居取眾數，而是要乘以一個weight再根據不同類別的到的weight總和決定分類，我使用distance<br>\n",
    "原因 : 我想讓模型有權值，即便是取最近的K點，取到的點在空間上的位置亦不大相同，離得較近表示有更類似的特徵，理應更可能是該類\n",
    "p : p是由明科夫斯基距離得出的，只有當weight = distance這項參數才有意義，選擇1作為參數<br>\n",
    "選擇原因:透過for迴圈嘗試不同p值，取訓練精確度最高的p值，該次結果為1\n",
    "\n"
   ]
  },
  {
   "cell_type": "code",
   "execution_count": 943,
   "metadata": {},
   "outputs": [
    {
     "name": "stdout",
     "output_type": "stream",
     "text": [
      "average train accuracy: 0.8563420899191578\n",
      "average valid accuracy: 0.8181783943255289\n",
      "\n"
     ]
    }
   ],
   "source": [
    "# 使用5-Fold cross validation輸出平均準確度\n",
    "\n",
    "from sklearn.model_selection import KFold             # 匯入 K 次交叉驗證工具\n",
    "from sklearn.metrics import accuracy_score            # 匯入準確度計算工具\n",
    "\n",
    "\n",
    "def five_fold_fit(model,seed):\n",
    "    kf = KFold(n_splits=5,random_state = seed,shuffle=True)                                # 設定 K 值\n",
    "\n",
    "    kf.get_n_splits(train_x)                              # 給予資料範圍\n",
    "\n",
    "    train_acc_list = []                                   # 儲存每次訓練模型的準確度\n",
    "    valid_acc_list = []                                   # 儲存每次驗證模型的準確度\n",
    "    for train_index, valid_index in kf.split(train_x):    # 每個迴圈都會產生不同部份的資料\n",
    "        train_x_split = train_x.iloc[train_index]         # 產生訓練資料\n",
    "        train_y_split = train_y.iloc[train_index]         # 產生訓練資料標籤\n",
    "        valid_x_split = train_x.iloc[valid_index]         # 產生驗證資料\n",
    "        valid_y_split = train_y.iloc[valid_index]         # 產生驗證資料標籤\n",
    "        \n",
    "        model.fit(train_x_split, train_y_split)           # 訓練模型\n",
    "        \n",
    "        train_pred_y = model.predict(train_x_split)       # 確認模型是否訓練成功\n",
    "        train_acc = accuracy_score(train_y_split,         # 計算訓練資料準確度\n",
    "                                train_pred_y)\n",
    "        valid_pred_y = model.predict(valid_x_split)       # 驗證模型是否訓練成功\n",
    "        valid_acc = accuracy_score(valid_y_split,         # 計算驗證資料準確度\n",
    "                                valid_pred_y)\n",
    "        \n",
    "        train_acc_list.append(train_acc)\n",
    "        valid_acc_list.append(valid_acc)\n",
    "\n",
    "    return np.mean(train_acc_list),np.mean(valid_acc_list)\n",
    "\n",
    "train_avg,valid_avg = five_fold_fit(knn,seed)\n",
    "\n",
    "\n",
    "print((\n",
    "    'average train accuracy: {}\\n' +\n",
    "    'average valid accuracy: {}\\n').format(\n",
    "    train_avg,                          # 輸出平均訓練準確度\n",
    "    valid_avg,                          # 輸出平均驗證準確度\n",
    "))\n"
   ]
  },
  {
   "cell_type": "code",
   "execution_count": 944,
   "metadata": {},
   "outputs": [
    {
     "name": "stdout",
     "output_type": "stream",
     "text": [
      "全資料訓練準確度 : 0.8529741863075196\n"
     ]
    }
   ],
   "source": [
    "#使用所有資料訓練\n",
    "all_data_model = clone(knn)\n",
    "all_data_model.fit(train_x, train_y)    \n",
    "train_pred_y = all_data_model.predict(train_x)\n",
    "train_acc = accuracy_score(train_y,train_pred_y)\n",
    "print(f'全資料訓練準確度 : {train_acc}')\n",
    "       "
   ]
  },
  {
   "cell_type": "code",
   "execution_count": 945,
   "metadata": {},
   "outputs": [
    {
     "name": "stdout",
     "output_type": "stream",
     "text": [
      "SVM average train accuracy: 0.8355772412814977\n",
      "SVM average valid accuracy: 0.8305065595380077\n",
      "\n",
      "DecisionTree average train accuracy: 0.8563420899191578\n",
      "DecisionTree average valid accuracy: 0.8137028435126483\n",
      "\n",
      "Random Forest Classifier average train accuracy: 0.8563420899191578\n",
      "Random Forest Classifier average valid accuracy: 0.8193019898311468\n",
      "\n"
     ]
    }
   ],
   "source": [
    "#使用多個模型進行實驗\n",
    "from sklearn.svm import SVC\n",
    "from sklearn.tree import DecisionTreeClassifier\n",
    "from sklearn.ensemble import RandomForestClassifier\n",
    "\n",
    "svm = SVC(random_state = seed)\n",
    "dtc = DecisionTreeClassifier(random_state = seed)\n",
    "rfc = RandomForestClassifier(random_state=seed,n_estimators=250,oob_score=True)\n",
    "\n",
    "train_avg,valid_avg = five_fold_fit(svm,seed)\n",
    "print((\n",
    "    'SVM average train accuracy: {}\\n' +\n",
    "    'SVM average valid accuracy: {}\\n').format(\n",
    "    train_avg,\n",
    "    valid_avg,\n",
    "))\n",
    "train_avg,valid_avg = five_fold_fit(dtc,seed)\n",
    "print((\n",
    "    'DecisionTree average train accuracy: {}\\n' +\n",
    "    'DecisionTree average valid accuracy: {}\\n').format(\n",
    "    train_avg,\n",
    "    valid_avg,\n",
    "))\n",
    "train_avg,valid_avg = five_fold_fit(rfc,seed)\n",
    "print((\n",
    "    'Random Forest Classifier average train accuracy: {}\\n' +\n",
    "    'Random Forest Classifier average valid accuracy: {}\\n').format(\n",
    "    train_avg,\n",
    "    valid_avg,\n",
    "))\n",
    "\n"
   ]
  },
  {
   "cell_type": "code",
   "execution_count": 946,
   "metadata": {},
   "outputs": [
    {
     "name": "stdout",
     "output_type": "stream",
     "text": [
      "Gradient Boosting Classifier average train accuracy: 0.8484859826339095\n",
      "Gradient Boosting Classifier average valid accuracy: 0.8249074132195091\n",
      "\n"
     ]
    }
   ],
   "source": [
    "#使用ensemble進行實驗\n",
    "\n",
    "from sklearn.ensemble import GradientBoostingClassifier \n",
    "\n",
    "gbc = GradientBoostingClassifier(n_estimators=100,random_state = seed)\n",
    "\n",
    "train_avg,valid_avg = five_fold_fit(gbc,seed)\n",
    "print((\n",
    "    'Gradient Boosting Classifier average train accuracy: {}\\n' +\n",
    "    'Gradient Boosting Classifier average valid accuracy: {}\\n').format(\n",
    "    train_avg,\n",
    "    valid_avg,\n",
    "))"
   ]
  },
  {
   "cell_type": "code",
   "execution_count": 947,
   "metadata": {},
   "outputs": [
    {
     "name": "stdout",
     "output_type": "stream",
     "text": [
      "Gradient Boosting Classifier average train accuracy: 0.8471428571428572\n",
      "Gradient Boosting Classifier average valid accuracy: 0.0\n",
      "訓練與驗證集確度差異 : 84.71 %\n"
     ]
    }
   ],
   "source": [
    "#使模型overfitting\n",
    "from sklearn.base import clone\n",
    "\n",
    "overfitting_model = clone(knn)\n",
    "\n",
    "overfitting_train_x = train_x[:700]\n",
    "overfitting_train_y = train_y[:700]\n",
    "overfitting_valid_x = train_x[700:]\n",
    "overfitting_valid_y = train_y[700:]\n",
    "\n",
    "overfitting_train_x = overfitting_train_x * 5\n",
    "overfitting_train_y = overfitting_train_y * 5\n",
    "\n",
    "overfitting_model.fit(overfitting_train_x, overfitting_train_y)\n",
    "\n",
    "overfitting_train_pre = overfitting_model.predict(overfitting_train_x)\n",
    "overfitting_valid_pre = overfitting_model.predict(overfitting_valid_x)\n",
    "\n",
    "overfitting_train_acc = accuracy_score(overfitting_train_y,overfitting_train_pre)\n",
    "overfitting_valid_acc = accuracy_score(overfitting_valid_y,overfitting_valid_pre)\n",
    "\n",
    "print((\n",
    "    'Gradient Boosting Classifier average train accuracy: {}\\n' +\n",
    "    'Gradient Boosting Classifier average valid accuracy: {}\\n' +\n",
    "    '訓練與驗證集確度差異 : {:.2f} %').format(\n",
    "    overfitting_train_acc,\n",
    "    overfitting_valid_acc,\n",
    "    (overfitting_train_acc - overfitting_valid_acc) * 100\n",
    "))"
   ]
  },
  {
   "cell_type": "code",
   "execution_count": 948,
   "metadata": {},
   "outputs": [
    {
     "name": "stdout",
     "output_type": "stream",
     "text": [
      "訓練準確度 : 47.14 %\n"
     ]
    }
   ],
   "source": [
    "#使模型underfitting\n",
    "\n",
    "underfitting_model = clone(svm)\n",
    "# underfitting_model.n_estimators = 1\n",
    "\n",
    "underfitting_train_x = train_x[17:37]\n",
    "underfitting_train_y = train_y[17:37]\n",
    "\n",
    "underfitting_model.fit(underfitting_train_x,underfitting_train_y)\n",
    "\n",
    "train_pre = underfitting_model.predict(train_x)\n",
    "acc = accuracy_score(train_pre, train_y)\n",
    "\n",
    "print((\n",
    "    '訓練準確度 : {:.2f} %').format(\n",
    "    acc * 100\n",
    "))"
   ]
  },
  {
   "cell_type": "code",
   "execution_count": 949,
   "metadata": {},
   "outputs": [
    {
     "name": "stderr",
     "output_type": "stream",
     "text": [
      "D:\\Anaconda3\\envs\\FDA\\lib\\site-packages\\ipykernel_launcher.py:16: SettingWithCopyWarning: \n",
      "A value is trying to be set on a copy of a slice from a DataFrame.\n",
      "Try using .loc[row_indexer,col_indexer] = value instead\n",
      "\n",
      "See the caveats in the documentation: https://pandas.pydata.org/pandas-docs/stable/user_guide/indexing.html#returning-a-view-versus-a-copy\n",
      "  app.launch_new_instance()\n"
     ]
    }
   ],
   "source": [
    "df_test = pd.read_csv('test.csv')\n",
    "\n",
    "df_test['Name'] = df_test['Name'].str.extract(' ([A-Za-z]+)\\.', expand=False)\n",
    "df_test['Name'] = df_test['Name'].replace(['Mlle', 'Ms','Mme'],'Miss')\n",
    "df_test['Name'] = df_test['Name'].replace(['Lady'],'Mrs')\n",
    "df_test['Name'] = df_test['Name'].replace(['Capt', 'Col', 'Countess', 'Don',\n",
    "                    'Dr', 'Dona', 'Jonkheer', \n",
    "                    'Major','Rev','Sir'],'Others') \n",
    "\n",
    "df_test['Name'] = le_name.transform(df_test['Name'])\n",
    "\n",
    "df_test['Age'] = process_age(df_test)\n",
    "\n",
    "test_x = df_test[['Sex', 'Age','Pclass','Parch','SibSp','Name']]\n",
    "\n",
    "test_x['Sex'] = le_sex.transform(test_x['Sex'])\n",
    "\n",
    "rst = gbc.predict(test_x)\n",
    "\n",
    "with open(\"submission.csv\",\"w\") as f:\n",
    "    f.write(f'PassengerId,Survived\\n')\n",
    "    for idx,i in enumerate(rst,0):\n",
    "        f.write(f'{df_test.PassengerId[idx]},{i}\\n')\n"
   ]
  },
  {
   "cell_type": "markdown",
   "metadata": {},
   "source": [
    "![Score](score.png)"
   ]
  },
  {
   "cell_type": "markdown",
   "metadata": {},
   "source": [
    "## 加分題\n",
    "\n",
    "請將訓練後的模型套用至 [Kaggle Titanic](https://www.kaggle.com/c/titanic/overview) `test.csv` 上，並上傳至 Kaggle 進行評分，**截圖**後**嵌入**至 `markdown` 區塊中。"
   ]
  },
  {
   "cell_type": "code",
   "execution_count": 950,
   "metadata": {},
   "outputs": [
    {
     "name": "stdout",
     "output_type": "stream",
     "text": [
      "total execution time: 6.169816017150879\n"
     ]
    }
   ],
   "source": [
    "# 請勿更動此區塊程式碼\n",
    "\n",
    "EXECUTION_END_TIME = time.time() # 計算執行時間\n",
    "print('total execution time: {}'.format(EXECUTION_END_TIME - EXECUTION_START_TIME))"
   ]
  }
 ],
 "metadata": {
  "kernelspec": {
   "display_name": "Python 3",
   "language": "python",
   "name": "python3"
  },
  "language_info": {
   "codemirror_mode": {
    "name": "ipython",
    "version": 3
   },
   "file_extension": ".py",
   "mimetype": "text/x-python",
   "name": "python",
   "nbconvert_exporter": "python",
   "pygments_lexer": "ipython3",
   "version": "3.6.9"
  }
 },
 "nbformat": 4,
 "nbformat_minor": 4
}
